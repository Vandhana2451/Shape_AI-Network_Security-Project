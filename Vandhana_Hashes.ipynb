{
  "nbformat": 4,
  "nbformat_minor": 0,
  "metadata": {
    "colab": {
      "name": "Vandhana_Hashes.ipynb",
      "provenance": [],
      "collapsed_sections": []
    },
    "kernelspec": {
      "name": "python3",
      "display_name": "Python 3"
    },
    "language_info": {
      "name": "python"
    }
  },
  "cells": [
    {
      "cell_type": "code",
      "metadata": {
        "colab": {
          "base_uri": "https://localhost:8080/"
        },
        "id": "ukvjhgF8QjU_",
        "outputId": "94744387-8fba-4b09-83fb-5d1e4a222662"
      },
      "source": [
        "import hashlib\n",
        "\n",
        "str=\" \"\n",
        "print(\"Enter the string:\")\n",
        "n=input()\n",
        "res = hashlib.md5(str.encode())\n",
        "print(\"The hexadecimal equivalent of hash is : \")\n",
        "print(res.hexdigest())\n"
      ],
      "execution_count": 1,
      "outputs": [
        {
          "output_type": "stream",
          "text": [
            "Enter the string:\n",
            "vandhu\n",
            "The hexadecimal equivalent of hash is : \n",
            "7215ee9c7d9dc229d2921a40e899ec5f\n"
          ],
          "name": "stdout"
        }
      ]
    },
    {
      "cell_type": "code",
      "metadata": {
        "colab": {
          "base_uri": "https://localhost:8080/"
        },
        "id": "WlkPAVXDWSYd",
        "outputId": "d1b0187a-6e48-4297-b8e4-2dfb5854c6a3"
      },
      "source": [
        "import hashlib\n",
        "print(hashlib.algorithms_available)"
      ],
      "execution_count": 2,
      "outputs": [
        {
          "output_type": "stream",
          "text": [
            "{'sha224', 'sha512', 'sha3_256', 'shake_256', 'sha1', 'sha3_512', 'sha3_384', 'blake2s', 'sha256', 'md5', 'sha3_224', 'blake2b', 'sha384', 'shake_128'}\n"
          ],
          "name": "stdout"
        }
      ]
    },
    {
      "cell_type": "code",
      "metadata": {
        "colab": {
          "base_uri": "https://localhost:8080/"
        },
        "id": "Qb4w4z-YYKwe",
        "outputId": "af13339a-9302-4a93-d16c-267ff503d216"
      },
      "source": [
        "import hashlib\n",
        "\n",
        "res = hashlib.sha256(b'HelloWorld')\n",
        "result = res.hexdigest()\n",
        "print(result)"
      ],
      "execution_count": 9,
      "outputs": [
        {
          "output_type": "stream",
          "text": [
            "872e4e50ce9990d8b041330c47c9ddd11bec6b503ae9386a99da8584e9bb12c4\n"
          ],
          "name": "stdout"
        }
      ]
    },
    {
      "cell_type": "code",
      "metadata": {
        "colab": {
          "base_uri": "https://localhost:8080/"
        },
        "id": "8nt8FUWoaDDj",
        "outputId": "eeae2472-fde2-4629-f4e6-c552cfe6cca6"
      },
      "source": [
        "import hashlib\n",
        "\n",
        "res = hashlib.sha512(b'HelloWorld')\n",
        "result = res.hexdigest()\n",
        "print(result)"
      ],
      "execution_count": 10,
      "outputs": [
        {
          "output_type": "stream",
          "text": [
            "8ae6ae71a75d3fb2e0225deeb004faf95d816a0a58093eb4cb5a3aa0f197050d7a4dc0a2d5c6fbae5fb5b0d536a0a9e6b686369fa57a027687c3630321547596\n"
          ],
          "name": "stdout"
        }
      ]
    },
    {
      "cell_type": "code",
      "metadata": {
        "colab": {
          "base_uri": "https://localhost:8080/"
        },
        "id": "bvQufMYYaZCM",
        "outputId": "4c5e8da9-5e20-4d29-efdc-23cf84cb74d4"
      },
      "source": [
        "import hashlib\n",
        "\n",
        "res = hashlib.sha224(b'HelloWorld')\n",
        "result = res.hexdigest()\n",
        "print(result)"
      ],
      "execution_count": 11,
      "outputs": [
        {
          "output_type": "stream",
          "text": [
            "b07a0b24d54879214f2361e0a1ac320442fa4e53a0f607d126fbfb8a\n"
          ],
          "name": "stdout"
        }
      ]
    }
  ]
}